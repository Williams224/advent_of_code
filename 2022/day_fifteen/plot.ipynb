{
 "cells": [
  {
   "cell_type": "code",
   "execution_count": 1,
   "metadata": {},
   "outputs": [],
   "source": [
    "from day_fifteen import read_input, Sensor\n",
    "import matplotlib.pyplot as plt\n",
    "from matplotlib.patches import Rectangle\n",
    "import numpy as np"
   ]
  },
  {
   "cell_type": "code",
   "execution_count": 2,
   "metadata": {},
   "outputs": [],
   "source": [
    "sensors = read_input('/Users/TimothyW/Fun/avent_of_code/2022/day_fifteen/test_input.txt')"
   ]
  },
  {
   "cell_type": "code",
   "execution_count": 3,
   "metadata": {},
   "outputs": [],
   "source": [
    "def pythag(a,b):\n",
    "    return np.sqrt(a**2 + b**2)"
   ]
  },
  {
   "cell_type": "code",
   "execution_count": 14,
   "metadata": {},
   "outputs": [
    {
     "name": "stdout",
     "output_type": "stream",
     "text": [
      "(-6, 18) (2, 26)\n",
      "(7, 16) (9, 18)\n",
      "(9, 2) (13, 6)\n",
      "(7, 14) (12, 19)\n",
      "(5, 20) (10, 25)\n",
      "(8, 17) (14, 23)\n",
      "(-2, 7) (8, 17)\n",
      "(-9, 0) (2, 11)\n",
      "(-4, 11) (0, 15)\n",
      "(11, 14) (20, 23)\n",
      "(10, 20) (17, 27)\n",
      "(10, 7) (16, 13)\n",
      "(12, 3) (14, 5)\n",
      "(12, 1) (20, 9)\n"
     ]
    },
    {
     "data": {
      "image/png": "[encoded data removed]",
      "text/plain": [
       "<Figure size 432x288 with 1 Axes>"
      ]
     },
     "metadata": {
      "needs_background": "light"
     },
     "output_type": "display_data"
    }
   ],
   "source": [
    "import sys\n",
    "fig = plt.figure()\n",
    "ax = fig.gca()\n",
    "ax.cla()\n",
    "#ax.hlines(21,0,21)\n",
    "#ax.vlines(21,0,21)\n",
    "#ax.hlines(0,0,21)\n",
    "#ax.vlines(0,0,21)\n",
    "for s in sensors:\n",
    "    ax.scatter(x = s.coords[0], y = s.coords[1], c = 'red', marker = '*')\n",
    "    ax.scatter(x = s.close_beacon[0], y= s.close_beacon[1], c = 'blue', marker = 'o')    \n",
    "    ax.add_patch(Rectangle((s.coords[0] - s.manhattan_distance, s.coords[1]), pythag(s.manhattan_distance, s.manhattan_distance), pythag(s.manhattan_distance, s.manhattan_distance), angle = -45, edgecolor = 'green', facecolor ='none'))        \n",
    "    ax.scatter(x = s.area_bottom[0], y = s.area_bottom[1], c = 'magenta', marker = 's')\n",
    "    ax.scatter(x = s.area_top[0], y = s.area_top[1], c = 'magenta', marker = 's')\n",
    "    ax.scatter(x = s.area_left[0], y = s.area_left[1], c = 'magenta', marker = 's')\n",
    "    ax.scatter(x = s.area_right[0], y = s.area_right[1], c = 'magenta', marker = 's')    \n",
    "    print(s.lines[3].p1, s.lines[3].p2)\n",
    "\n",
    "plt.show()"
   ]
  },
  {
   "cell_type": "code",
   "execution_count": 11,
   "metadata": {},
   "outputs": [
    {
     "data": {
      "text/plain": [
       "<matplotlib.patches.Rectangle at 0x7fcc00cbb790>"
      ]
     },
     "execution_count": 11,
     "metadata": {},
     "output_type": "execute_result"
    }
   ],
   "source": []
  },
  {
   "cell_type": "code",
   "execution_count": 12,
   "metadata": {},
   "outputs": [
    {
     "name": "stderr",
     "output_type": "stream",
     "text": [
      "<ipython-input-12-6ebedab27258>:1: UserWarning: Matplotlib is currently using module://ipykernel.pylab.backend_inline, which is a non-GUI backend, so cannot show the figure.\n",
      "  fig.show()\n"
     ]
    }
   ],
   "source": [
    "fig.show()"
   ]
  },
  {
   "cell_type": "code",
   "execution_count": 15,
   "metadata": {},
   "outputs": [],
   "source": [
    "s = sensors[0]"
   ]
  },
  {
   "cell_type": "code",
   "execution_count": 17,
   "metadata": {},
   "outputs": [
    {
     "name": "stdout",
     "output_type": "stream",
     "text": [
      "1.62 µs ± 42.5 ns per loop (mean ± std. dev. of 7 runs, 1000000 loops each)\n"
     ]
    }
   ],
   "source": [
    "%timeit s.within_manhatten_distance((11,14))"
   ]
  },
  {
   "cell_type": "code",
   "execution_count": 20,
   "metadata": {},
   "outputs": [],
   "source": [
    "def manhatten_distance(a, b):\n",
    "    return abs(a[0] - b[0]) + abs(a[1] - b[1])\n"
   ]
  },
  {
   "cell_type": "code",
   "execution_count": 21,
   "metadata": {},
   "outputs": [
    {
     "name": "stdout",
     "output_type": "stream",
     "text": [
      "183 ns ± 2.19 ns per loop (mean ± std. dev. of 7 runs, 10000000 loops each)\n"
     ]
    }
   ],
   "source": [
    "%timeit manhatten_distance((11,14), (4, 5))"
   ]
  },
  {
   "cell_type": "code",
   "execution_count": 22,
   "metadata": {},
   "outputs": [],
   "source": [
    "x = 2721114\n",
    "y = 3367718.0\n",
    "score = x*4000000 + y"
   ]
  },
  {
   "cell_type": "code",
   "execution_count": 23,
   "metadata": {},
   "outputs": [
    {
     "data": {
      "text/plain": [
       "10884459367718.0"
      ]
     },
     "execution_count": 23,
     "metadata": {},
     "output_type": "execute_result"
    }
   ],
   "source": [
    "score"
   ]
  },
  {
   "cell_type": "code",
   "execution_count": null,
   "metadata": {},
   "outputs": [],
   "source": []
  }
 ],
 "metadata": {
  "kernelspec": {
   "display_name": "base",
   "language": "python",
   "name": "python3"
  },
  "language_info": {
   "codemirror_mode": {
    "name": "ipython",
    "version": 3
   },
   "file_extension": ".py",
   "mimetype": "text/x-python",
   "name": "python",
   "nbconvert_exporter": "python",
   "pygments_lexer": "ipython3",
   "version": "3.8.3"
  },
  "orig_nbformat": 4,
  "vscode": {
   "interpreter": {
    "hash": "2a2a1ab2fb81b0250dad5bdb5f53cb4b3c5b09fdfe28d523fd6c9652c83af90e"
   }
  }
 },
 "nbformat": 4,
 "nbformat_minor": 2
}
